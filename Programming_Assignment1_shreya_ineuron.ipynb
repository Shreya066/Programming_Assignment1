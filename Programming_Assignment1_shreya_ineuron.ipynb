{
 "cells": [
  {
   "cell_type": "markdown",
   "id": "01810a03",
   "metadata": {},
   "source": [
    "**1.\tWrite a Python program to print \"Hello Python\"?**"
   ]
  },
  {
   "cell_type": "code",
   "execution_count": 1,
   "id": "32720e0f",
   "metadata": {},
   "outputs": [
    {
     "name": "stdout",
     "output_type": "stream",
     "text": [
      "Hello Python\n"
     ]
    }
   ],
   "source": [
    "print(\"Hello Python\")"
   ]
  },
  {
   "cell_type": "markdown",
   "id": "36fc2630",
   "metadata": {},
   "source": [
    "**2.\tWrite a Python program to do arithmetical operations addition and division.?***"
   ]
  },
  {
   "cell_type": "code",
   "execution_count": 2,
   "id": "22ab9d6d",
   "metadata": {},
   "outputs": [
    {
     "name": "stdout",
     "output_type": "stream",
     "text": [
      "Enter 1st value :1500\n",
      "Enter 2nd value :30\n",
      "choose operator - + , //://\n",
      "Ans = 50\n"
     ]
    }
   ],
   "source": [
    "a = int(input('Enter 1st value :'))\n",
    "b = int(input('Enter 2nd value :'))\n",
    "c = input('choose operator - + , //:')\n",
    "if c == '+':\n",
    "    print('Ans =', a+b)\n",
    "elif c == '//':\n",
    "    print('Ans =', a//b)\n",
    "else:\n",
    "    print(\"Operation not valid\")"
   ]
  },
  {
   "cell_type": "markdown",
   "id": "137474c7",
   "metadata": {},
   "source": [
    "**3.\tWrite a Python program to find the area of a triangle?**"
   ]
  },
  {
   "cell_type": "code",
   "execution_count": 3,
   "id": "6ea1b866",
   "metadata": {},
   "outputs": [
    {
     "name": "stdout",
     "output_type": "stream",
     "text": [
      "Enter base:12.5\n",
      "Enter hieght:15.5\n",
      "area = 96.875\n"
     ]
    }
   ],
   "source": [
    "b = float(input('Enter base:'))\n",
    "h = float(input('Enter hieght:'))\n",
    "area = 0.5*b*h\n",
    "print('area =', area)"
   ]
  },
  {
   "cell_type": "markdown",
   "id": "1054d4fc",
   "metadata": {},
   "source": [
    "**4.\tWrite a Python program to swap two variables?**"
   ]
  },
  {
   "cell_type": "code",
   "execution_count": 4,
   "id": "ed3fd98c",
   "metadata": {},
   "outputs": [
    {
     "name": "stdout",
     "output_type": "stream",
     "text": [
      "value of x after swapping : 78\n",
      "value of y after swapping : 55\n"
     ]
    }
   ],
   "source": [
    "x = 55\n",
    "y = 78\n",
    "x,y = y,x\n",
    "print('value of x after swapping :', x)\n",
    "print('value of y after swapping :', y)"
   ]
  },
  {
   "cell_type": "markdown",
   "id": "a9125084",
   "metadata": {},
   "source": [
    "**5.\tWrite a Python program to generate a random number?**"
   ]
  },
  {
   "cell_type": "code",
   "execution_count": 5,
   "id": "986c29bf",
   "metadata": {},
   "outputs": [
    {
     "name": "stdout",
     "output_type": "stream",
     "text": [
      "908\n"
     ]
    }
   ],
   "source": [
    "import random\n",
    "\n",
    "print(random.randint(0,1000))"
   ]
  }
 ],
 "metadata": {
  "kernelspec": {
   "display_name": "Python 3 (ipykernel)",
   "language": "python",
   "name": "python3"
  },
  "language_info": {
   "codemirror_mode": {
    "name": "ipython",
    "version": 3
   },
   "file_extension": ".py",
   "mimetype": "text/x-python",
   "name": "python",
   "nbconvert_exporter": "python",
   "pygments_lexer": "ipython3",
   "version": "3.9.7"
  }
 },
 "nbformat": 4,
 "nbformat_minor": 5
}
